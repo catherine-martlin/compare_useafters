{
 "cells": [
  {
   "cell_type": "code",
   "execution_count": null,
   "metadata": {},
   "outputs": [],
   "source": [
    "import glob\n",
    "import os\n",
    "import shutil\n",
    "\n",
    "from astropy.io import ascii\n",
    "from astropy.io import fits\n",
    "\n",
    "import numpy as np\n",
    "import pandas as pd"
   ]
  },
  {
   "cell_type": "code",
   "execution_count": null,
   "metadata": {},
   "outputs": [],
   "source": [
    "darkfiles_in_crds = glob.glob('/grp/crds/hst/references/hst/*dkc.fits')\n",
    "print(darkfiles_in_crds)"
   ]
  },
  {
   "cell_type": "code",
   "execution_count": null,
   "metadata": {},
   "outputs": [],
   "source": [
    "test = fits.open('/grp/crds/hst/references/hst/zcv1958pi_dkc.fits')\n",
    "test[0].header"
   ]
  },
  {
   "cell_type": "code",
   "execution_count": null,
   "metadata": {
    "scrolled": true
   },
   "outputs": [],
   "source": [
    "file_name = []\n",
    "paths = []\n",
    "rootname = []\n",
    "instrument = []\n",
    "useafter = []\n",
    "detector = [] \n",
    "\n",
    "for f in darkfiles_in_crds:\n",
    "    print(f)\n",
    "    data = fits.open(f)\n",
    "    instrument_val = data[0].header['INSTRUME']\n",
    "    if instrument_val != 'WFC3':\n",
    "        exception_message = instrument_val + \" is not WFC3 darkfile.\"\n",
    "        print(exception_message)\n",
    "        pass\n",
    "    else:\n",
    "        try:\n",
    "            rootname_val = data[0].header['ROOTNAME']\n",
    "            print(rootname_val)\n",
    "        except:\n",
    "            print(\"Missing a rootname.\")\n",
    "            continue\n",
    "        try:\n",
    "            filename_val = data[0].header['FILENAME']\n",
    "        except:\n",
    "            print(\"Missing a filename.\")\n",
    "            continue\n",
    "        detector_val = data[0].header['DETECTOR']\n",
    "        useafter_val = data[0].header['USEAFTER']\n",
    "\n",
    "        rootname.append(rootname_val)\n",
    "        file_name.append(filename_val)\n",
    "        instrument.append(instrument_val)\n",
    "        paths.append(f)\n",
    "        useafter.append(useafter_val)\n",
    "        detector.append(detector_val)\n",
    "\n",
    "        data.close()\n"
   ]
  },
  {
   "cell_type": "code",
   "execution_count": null,
   "metadata": {},
   "outputs": [],
   "source": [
    "dict = {'filename':file_name,'path': paths, 'rootname': rootname, \n",
    "        'instrument': instrument, 'useafter': useafter, 'detector': detector}\n",
    "\n",
    "CRDS_WFC3_Darkfiles = pd.DataFrame(dict) \n",
    "\n",
    "CRDS_WFC3_Darkfiles = CRDS_WFC3_Darkfiles.set_index('rootname')\n",
    "\n",
    "CRDS_WFC3_Darkfiles.to_pickle('all_wfc3_crds_drkcfile_data.pkl')"
   ]
  },
  {
   "cell_type": "code",
   "execution_count": null,
   "metadata": {},
   "outputs": [],
   "source": [
    "CRDS_WFC3_Darkfiles"
   ]
  },
  {
   "cell_type": "code",
   "execution_count": null,
   "metadata": {},
   "outputs": [],
   "source": []
  },
  {
   "cell_type": "code",
   "execution_count": null,
   "metadata": {},
   "outputs": [],
   "source": []
  },
  {
   "cell_type": "code",
   "execution_count": null,
   "metadata": {},
   "outputs": [],
   "source": []
  },
  {
   "cell_type": "code",
   "execution_count": null,
   "metadata": {},
   "outputs": [],
   "source": []
  }
 ],
 "metadata": {
  "kernelspec": {
   "display_name": "Python 3",
   "language": "python",
   "name": "python3"
  },
  "language_info": {
   "codemirror_mode": {
    "name": "ipython",
    "version": 3
   },
   "file_extension": ".py",
   "mimetype": "text/x-python",
   "name": "python",
   "nbconvert_exporter": "python",
   "pygments_lexer": "ipython3",
   "version": "3.5.6"
  }
 },
 "nbformat": 4,
 "nbformat_minor": 2
}
