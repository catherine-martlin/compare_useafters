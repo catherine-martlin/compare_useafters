{
 "cells": [
  {
   "cell_type": "code",
   "execution_count": null,
   "metadata": {},
   "outputs": [],
   "source": [
    "import glob\n",
    "import os\n",
    "import shutil\n",
    "\n",
    "from astropy.io import ascii\n",
    "from astropy.io import fits\n",
    "\n",
    "import numpy as np\n",
    "import pandas as pd"
   ]
  },
  {
   "cell_type": "code",
   "execution_count": null,
   "metadata": {},
   "outputs": [],
   "source": [
    "new_UVIS_CTE_Darkfiles = pd.read_pickle(\"smol_wfc3_new_drkcfile_data.pkl\")"
   ]
  },
  {
   "cell_type": "code",
   "execution_count": null,
   "metadata": {},
   "outputs": [],
   "source": [
    "CRDS_WFC3_Darkfiles = pd.read_pickle(\"all_wfc3_crds_drkcfile_data.pkl\")"
   ]
  },
  {
   "cell_type": "code",
   "execution_count": null,
   "metadata": {},
   "outputs": [],
   "source": [
    "CRDS_WFC3_Darkfiles['useafter'] = pd.to_datetime(CRDS_WFC3_Darkfiles['useafter'])"
   ]
  },
  {
   "cell_type": "code",
   "execution_count": null,
   "metadata": {},
   "outputs": [],
   "source": [
    "new_UVIS_CTE_Darkfiles['useafter'] = pd.to_datetime(new_UVIS_CTE_Darkfiles['useafter'])"
   ]
  },
  {
   "cell_type": "code",
   "execution_count": null,
   "metadata": {},
   "outputs": [],
   "source": [
    "new_UVIS_CTE_Darkfiles = new_UVIS_CTE_Darkfiles.sort_values(by='useafter')\n",
    "CRDS_WFC3_Darkfiles = CRDS_WFC3_Darkfiles.sort_values(by='useafter')"
   ]
  },
  {
   "cell_type": "code",
   "execution_count": null,
   "metadata": {},
   "outputs": [],
   "source": [
    "CRDS_WFC3_Darkfiles['useafter']"
   ]
  },
  {
   "cell_type": "code",
   "execution_count": null,
   "metadata": {},
   "outputs": [],
   "source": [
    "CRDS_WFC3_Darkfiles.useafter.isin(new_UVIS_CTE_Darkfiles.useafter).astype(int)"
   ]
  },
  {
   "cell_type": "code",
   "execution_count": null,
   "metadata": {},
   "outputs": [],
   "source": [
    "CRDS_WFC3_Darkfiles.assign(InDf2=CRDS_WFC3_Darkfiles.useafter.isin(new_UVIS_CTE_Darkfiles.useafter).astype(int))"
   ]
  },
  {
   "cell_type": "code",
   "execution_count": null,
   "metadata": {},
   "outputs": [],
   "source": []
  }
 ],
 "metadata": {
  "kernelspec": {
   "display_name": "Python 3",
   "language": "python",
   "name": "python3"
  },
  "language_info": {
   "codemirror_mode": {
    "name": "ipython",
    "version": 3
   },
   "file_extension": ".py",
   "mimetype": "text/x-python",
   "name": "python",
   "nbconvert_exporter": "python",
   "pygments_lexer": "ipython3",
   "version": "3.5.6"
  }
 },
 "nbformat": 4,
 "nbformat_minor": 2
}
