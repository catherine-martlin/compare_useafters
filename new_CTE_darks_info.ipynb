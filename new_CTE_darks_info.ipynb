{
 "cells": [
  {
   "cell_type": "code",
   "execution_count": null,
   "metadata": {},
   "outputs": [],
   "source": [
    "import glob\n",
    "import os\n",
    "import shutil\n",
    "\n",
    "from astropy.io import ascii\n",
    "from astropy.io import fits\n",
    "\n",
    "import numpy as np\n",
    "import pandas as pd"
   ]
  },
  {
   "cell_type": "code",
   "execution_count": null,
   "metadata": {},
   "outputs": [],
   "source": [
    "darkfiles_new_cte = glob.glob('/grp/hst/wfc3k/uvis_darks/new_algorithm/*ctecorr/deliver/*dkc.fits')\n",
    "print(darkfiles_new_cte[0:100])"
   ]
  },
  {
   "cell_type": "code",
   "execution_count": null,
   "metadata": {
    "scrolled": true
   },
   "outputs": [],
   "source": [
    "file_name = []\n",
    "paths = []\n",
    "rootname = []\n",
    "instrument = []\n",
    "useafter = []\n",
    "detector = [] \n",
    "\n",
    "for f in darkfiles_new_cte:\n",
    "    print(f)\n",
    "    data = fits.open(f)\n",
    "    instrument_val = data[0].header['INSTRUME']\n",
    "    filename_val = f[86:]\n",
    "    detector_val = data[0].header['DETECTOR']\n",
    "    useafter_val = data[0].header['USEAFTER']\n",
    "    rootname_val = f[86:-5]\n",
    "    print(rootname_val)\n",
    "\n",
    "    rootname.append(rootname_val)\n",
    "    file_name.append(filename_val)\n",
    "    instrument.append(instrument_val)\n",
    "    paths.append(f)\n",
    "    useafter.append(useafter_val)\n",
    "    detector.append(detector_val)\n",
    "\n",
    "    data.close()"
   ]
  },
  {
   "cell_type": "code",
   "execution_count": null,
   "metadata": {},
   "outputs": [],
   "source": [
    "dict = {'filename':file_name,'path': paths, 'rootname': rootname, \n",
    "        'instrument': instrument, 'useafter': useafter, 'detector': detector}\n",
    "\n",
    "new_UVIS_CTE_Darkfiles = pd.DataFrame(dict) \n",
    "\n",
    "new_UVIS_CTE_Darkfiles = new_UVIS_CTE_Darkfiles.set_index('rootname')\n",
    "\n",
    "new_UVIS_CTE_Darkfiles.to_pickle('smol_wfc3_new_drkcfile_data.pkl')"
   ]
  },
  {
   "cell_type": "code",
   "execution_count": null,
   "metadata": {},
   "outputs": [],
   "source": [
    "new_UVIS_CTE_Darkfiles"
   ]
  },
  {
   "cell_type": "code",
   "execution_count": null,
   "metadata": {},
   "outputs": [],
   "source": []
  }
 ],
 "metadata": {
  "kernelspec": {
   "display_name": "Python 3",
   "language": "python",
   "name": "python3"
  },
  "language_info": {
   "codemirror_mode": {
    "name": "ipython",
    "version": 3
   },
   "file_extension": ".py",
   "mimetype": "text/x-python",
   "name": "python",
   "nbconvert_exporter": "python",
   "pygments_lexer": "ipython3",
   "version": "3.5.6"
  }
 },
 "nbformat": 4,
 "nbformat_minor": 2
}
